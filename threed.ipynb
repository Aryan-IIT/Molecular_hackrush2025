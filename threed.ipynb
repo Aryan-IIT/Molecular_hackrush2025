{
 "cells": [
  {
   "cell_type": "code",
   "execution_count": 1,
   "id": "8ca6ff64",
   "metadata": {},
   "outputs": [],
   "source": [
    "from dscribe.descriptors import SOAP\n",
    "from ase import Atoms\n",
    "import numpy as np"
   ]
  },
  {
   "cell_type": "code",
   "execution_count": 2,
   "id": "aff3045a",
   "metadata": {},
   "outputs": [],
   "source": [
    "#import dataset \n",
    "\n",
    "import os\n",
    "import pandas as pd\n",
    "\n",
    "# === Paths ===\n",
    "BASE_DIR = 'molecular-property-prediction-challenge'\n",
    "DIPOLE_FILE = os.path.join(BASE_DIR, 'dipole_moments_train.csv')\n",
    "STRUCTURE_DIR = os.path.join(BASE_DIR, 'structures_train')  #for test can change dir later\n",
    "\n",
    "# === Load dipole moment labels ===\n",
    "dipole_df = pd.read_csv(DIPOLE_FILE)\n",
    "\n",
    "# === Function to load .xyz file and return DataFrame ===\n",
    "def parse_xyz(filepath):\n",
    "    with open(filepath, 'r') as f:\n",
    "        lines = f.readlines()\n",
    "    \n",
    "    num_atoms = int(lines[0].strip())\n",
    "    atom_lines = lines[2:2 + num_atoms]\n",
    "    \n",
    "    data = []\n",
    "    for line in atom_lines:\n",
    "        parts = line.strip().split()\n",
    "        atom = parts[0]\n",
    "        x, y, z = map(float, parts[1:])\n",
    "        data.append((atom, x, y, z))\n",
    "        \n",
    "    return pd.DataFrame(data, columns=['atom', 'x', 'y', 'z'])\n",
    "\n",
    "# === Load all structure files into a single DataFrame ===\n",
    "def load_structures(structure_dir):\n",
    "    all_data = []\n",
    "    \n",
    "    for filename in os.listdir(structure_dir):\n",
    "        if filename.endswith('.xyz'):\n",
    "            mol_name = filename.replace('.xyz', '')\n",
    "            filepath = os.path.join(structure_dir, filename)\n",
    "            df = parse_xyz(filepath)\n",
    "            df['molecule_name'] = mol_name\n",
    "            df['atom_index'] = range(len(df))  #keeping track of atom index, this is not informative \n",
    "            all_data.append(df)\n",
    "    \n",
    "    structures_df = pd.concat(all_data, ignore_index=True)\n",
    "    return structures_df\n",
    "\n",
    "# === Load training structure data ===\n",
    "train_structures = load_structures(STRUCTURE_DIR)\n",
    "\n",
    "# === Merge dipole moment target with training structures ===\n",
    "train_df = train_structures.merge(dipole_df, on='molecule_name')"
   ]
  },
  {
   "cell_type": "code",
   "execution_count": 3,
   "id": "4ba74400",
   "metadata": {},
   "outputs": [],
   "source": [
    "# === For test, structure loading only ===\n",
    "def load_test_structures(test_structure_dir):\n",
    "    return load_structures(test_structure_dir)\n",
    "#get test here \n",
    "STRUCTURE_DIR_TEST = os.path.join(BASE_DIR, 'structures_test')  #for test can change dir later\n",
    "\n",
    "test_structures = load_test_structures(STRUCTURE_DIR_TEST)"
   ]
  },
  {
   "cell_type": "code",
   "execution_count": 8,
   "id": "28ff4751",
   "metadata": {},
   "outputs": [
    {
     "data": {
      "text/plain": [
       "['C', 'F', 'H', 'N', 'O']"
      ]
     },
     "execution_count": 8,
     "metadata": {},
     "output_type": "execute_result"
    }
   ],
   "source": [
    "unique_atoms = sorted(train_df['atom'].unique().tolist())\n",
    "unique_atoms "
   ]
  },
  {
   "cell_type": "markdown",
   "id": "f79c55d1",
   "metadata": {},
   "source": [
    "# Soap"
   ]
  },
  {
   "cell_type": "code",
   "execution_count": 4,
   "id": "fcb59b23",
   "metadata": {},
   "outputs": [],
   "source": [
    "def xyz_df_to_ase(df):\n",
    "    symbols = df['atom'].tolist()\n",
    "    positions = df[['x', 'y', 'z']].values\n",
    "    return Atoms(symbols=symbols, positions=positions)"
   ]
  },
  {
   "cell_type": "code",
   "execution_count": null,
   "id": "6133bab2",
   "metadata": {},
   "outputs": [],
   "source": [
    "from dscribe.descriptors import SOAP\n",
    "\n",
    "species = unique_atoms  # as we discussed earlier\n",
    "soap = SOAP(\n",
    "    species=species,\n",
    "    periodic=False,\n",
    "    r_cut=5.0,     # 5.0 Å captures typical atomic interactions well\n",
    "    n_max=8,       # good resolution of radial distribution\n",
    "    l_max=6,       # decent angular resolution\n",
    "    sparse=False   # set to True if memory becomes an issue\n",
    ")"
   ]
  },
  {
   "cell_type": "code",
   "execution_count": null,
   "id": "d172f708",
   "metadata": {},
   "outputs": [],
   "source": [
    "soap_vectors = []\n",
    "mol_names = []\n",
    "\n",
    "for mol_name, group in train_df.groupby('molecule_name'):\n",
    "    mol_atoms = xyz_df_to_ase(group)\n",
    "    soap_vec = soap.create(mol_atoms)  # shape: (n_atoms, n_features)\n",
    "    \n",
    "    # You can aggregate per-molecule: e.g., mean pooling\n",
    "    soap_mean = soap_vec.mean(axis=0)\n",
    "    \n",
    "    soap_vectors.append(soap_mean)\n",
    "    mol_names.append(mol_name)\n",
    "\n",
    "# Final dataset\n",
    "X_soap = np.array(soap_vectors)\n",
    "y_soap = dipole_df.set_index('molecule_name').loc[mol_names]['dipole_moment'].values"
   ]
  },
  {
   "cell_type": "code",
   "execution_count": 16,
   "id": "c3a28ba6",
   "metadata": {},
   "outputs": [
    {
     "data": {
      "text/plain": [
       "(20000, 5740)"
      ]
     },
     "execution_count": 16,
     "metadata": {},
     "output_type": "execute_result"
    }
   ],
   "source": [
    "X_soap.shape"
   ]
  },
  {
   "cell_type": "code",
   "execution_count": 20,
   "id": "f35de4d5",
   "metadata": {},
   "outputs": [],
   "source": [
    "from sklearn.decomposition import PCA\n",
    "\n",
    "# Let's reduce to 100 dimensions (you can tune this later)\n",
    "pca = PCA(n_components=1000)\n",
    "\n",
    "# Fit PCA on your entire SOAP data (or just X_train)\n",
    "X_soap_reduced = pca.fit_transform(X_soap)"
   ]
  },
  {
   "cell_type": "code",
   "execution_count": 21,
   "id": "2cf8343e",
   "metadata": {},
   "outputs": [],
   "source": [
    "from sklearn.model_selection import train_test_split\n",
    "from sklearn.ensemble import RandomForestRegressor\n",
    "from sklearn.metrics import mean_absolute_error\n",
    "\n",
    "X_train, X_val, y_train, y_val = train_test_split(X_soap_reduced, y_soap, test_size=0.2, random_state=42)"
   ]
  },
  {
   "cell_type": "code",
   "execution_count": 22,
   "id": "17de1c32",
   "metadata": {},
   "outputs": [
    {
     "name": "stdout",
     "output_type": "stream",
     "text": [
      "MAE (SOAP descriptors): 0.7256\n"
     ]
    }
   ],
   "source": [
    "model = RandomForestRegressor(n_estimators=300, n_jobs=-1, random_state=42)\n",
    "model.fit(X_train, y_train)\n",
    "\n",
    "preds = model.predict(X_val)\n",
    "mae = mean_absolute_error(y_val, preds)\n",
    "print(f\"MAE (SOAP descriptors): {mae:.4f}\")"
   ]
  }
 ],
 "metadata": {
  "kernelspec": {
   "display_name": "chem39",
   "language": "python",
   "name": "python3"
  },
  "language_info": {
   "codemirror_mode": {
    "name": "ipython",
    "version": 3
   },
   "file_extension": ".py",
   "mimetype": "text/x-python",
   "name": "python",
   "nbconvert_exporter": "python",
   "pygments_lexer": "ipython3",
   "version": "3.9.21"
  }
 },
 "nbformat": 4,
 "nbformat_minor": 5
}
